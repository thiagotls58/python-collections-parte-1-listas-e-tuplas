{
  "nbformat": 4,
  "nbformat_minor": 0,
  "metadata": {
    "colab": {
      "name": "Introdução a Collections",
      "provenance": [],
      "collapsed_sections": []
    },
    "kernelspec": {
      "name": "python3",
      "display_name": "Python 3"
    }
  },
  "cells": [
    {
      "cell_type": "code",
      "metadata": {
        "id": "x-uA7-z5mIbT",
        "colab": {
          "base_uri": "https://localhost:8080/"
        },
        "outputId": "ed1ea138-3822-491c-afb7-223dd047c724"
      },
      "source": [
        "idade1 = 39\n",
        "idade2 = 30\n",
        "idade3 = 27\n",
        "idade4 = 18\n",
        "\n",
        "print(idade1)\n",
        "print(idade2)\n",
        "print(idade3)\n",
        "print(idade4)"
      ],
      "execution_count": null,
      "outputs": [
        {
          "output_type": "stream",
          "text": [
            "39\n",
            "30\n",
            "27\n",
            "18\n"
          ],
          "name": "stdout"
        }
      ]
    },
    {
      "cell_type": "code",
      "metadata": {
        "id": "WRgnmR8tmTbj"
      },
      "source": [
        "idades = [39, 30, 27, 18]"
      ],
      "execution_count": null,
      "outputs": []
    },
    {
      "cell_type": "code",
      "metadata": {
        "id": "vf9EwO46muOl",
        "colab": {
          "base_uri": "https://localhost:8080/"
        },
        "outputId": "783a2a54-94f3-4dd8-d494-96c58bc465ef"
      },
      "source": [
        "type(idades)"
      ],
      "execution_count": null,
      "outputs": [
        {
          "output_type": "execute_result",
          "data": {
            "text/plain": [
              "list"
            ]
          },
          "metadata": {
            "tags": []
          },
          "execution_count": 3
        }
      ]
    },
    {
      "cell_type": "code",
      "metadata": {
        "id": "WbktvD1tmwD-",
        "colab": {
          "base_uri": "https://localhost:8080/"
        },
        "outputId": "86aa5542-3232-451d-b16a-c950d1e482e9"
      },
      "source": [
        "len(idades)"
      ],
      "execution_count": null,
      "outputs": [
        {
          "output_type": "execute_result",
          "data": {
            "text/plain": [
              "4"
            ]
          },
          "metadata": {
            "tags": []
          },
          "execution_count": 4
        }
      ]
    },
    {
      "cell_type": "code",
      "metadata": {
        "id": "9y-3-b4dnOQ-",
        "colab": {
          "base_uri": "https://localhost:8080/"
        },
        "outputId": "bf5a58af-0796-475f-ea87-39fe4c9478a5"
      },
      "source": [
        "idades[0]"
      ],
      "execution_count": null,
      "outputs": [
        {
          "output_type": "execute_result",
          "data": {
            "text/plain": [
              "39"
            ]
          },
          "metadata": {
            "tags": []
          },
          "execution_count": 5
        }
      ]
    },
    {
      "cell_type": "code",
      "metadata": {
        "id": "rQUMYZwMnRh3",
        "colab": {
          "base_uri": "https://localhost:8080/"
        },
        "outputId": "b0145b1c-8431-41ab-a7ef-7745a349e94a"
      },
      "source": [
        "idades"
      ],
      "execution_count": null,
      "outputs": [
        {
          "output_type": "execute_result",
          "data": {
            "text/plain": [
              "[39, 30, 27, 18]"
            ]
          },
          "metadata": {
            "tags": []
          },
          "execution_count": 6
        }
      ]
    },
    {
      "cell_type": "code",
      "metadata": {
        "id": "0JsjelMlnTqH",
        "colab": {
          "base_uri": "https://localhost:8080/"
        },
        "outputId": "abac2749-0c08-4ffb-a898-d36dedc429a1"
      },
      "source": [
        "print(idades[1])\n",
        "print(idades[2])\n",
        "print(idades[3])"
      ],
      "execution_count": null,
      "outputs": [
        {
          "output_type": "stream",
          "text": [
            "30\n",
            "27\n",
            "18\n"
          ],
          "name": "stdout"
        }
      ]
    },
    {
      "cell_type": "code",
      "metadata": {
        "id": "I3dAYMSVnY5w"
      },
      "source": [
        "idades.append(15)"
      ],
      "execution_count": null,
      "outputs": []
    },
    {
      "cell_type": "code",
      "metadata": {
        "id": "0E2U3Advnlgn",
        "colab": {
          "base_uri": "https://localhost:8080/"
        },
        "outputId": "0b354326-dede-44c8-faaf-53ff8541b457"
      },
      "source": [
        "idades"
      ],
      "execution_count": null,
      "outputs": [
        {
          "output_type": "execute_result",
          "data": {
            "text/plain": [
              "[39, 30, 27, 18, 15]"
            ]
          },
          "metadata": {
            "tags": []
          },
          "execution_count": 9
        }
      ]
    },
    {
      "cell_type": "code",
      "metadata": {
        "id": "8DJTUJzonmeH",
        "colab": {
          "base_uri": "https://localhost:8080/"
        },
        "outputId": "9fea1f29-1eae-4909-c6f4-2bcd8dff452e"
      },
      "source": [
        "idades[4]"
      ],
      "execution_count": null,
      "outputs": [
        {
          "output_type": "execute_result",
          "data": {
            "text/plain": [
              "15"
            ]
          },
          "metadata": {
            "tags": []
          },
          "execution_count": 10
        }
      ]
    },
    {
      "cell_type": "code",
      "metadata": {
        "id": "uCZf5tqCnoVA",
        "colab": {
          "base_uri": "https://localhost:8080/"
        },
        "outputId": "e616638c-2d56-422a-dfeb-f01d7de1da75"
      },
      "source": [
        "for idade in idades:\n",
        "  print(idade)"
      ],
      "execution_count": null,
      "outputs": [
        {
          "output_type": "stream",
          "text": [
            "39\n",
            "30\n",
            "27\n",
            "18\n",
            "15\n"
          ],
          "name": "stdout"
        }
      ]
    },
    {
      "cell_type": "code",
      "metadata": {
        "id": "uCecIlQRn1up"
      },
      "source": [
        "idades.remove(30)"
      ],
      "execution_count": null,
      "outputs": []
    },
    {
      "cell_type": "code",
      "metadata": {
        "id": "pfMPuKC4n4Zu"
      },
      "source": [
        "# idades.remove(30)"
      ],
      "execution_count": null,
      "outputs": []
    },
    {
      "cell_type": "code",
      "metadata": {
        "id": "xSdqtBA7n6uW"
      },
      "source": [
        "idades.append(15)"
      ],
      "execution_count": null,
      "outputs": []
    },
    {
      "cell_type": "code",
      "metadata": {
        "id": "dJsDmsAqn9iS",
        "colab": {
          "base_uri": "https://localhost:8080/"
        },
        "outputId": "9551f416-6736-416a-f782-5735767120f8"
      },
      "source": [
        "idades"
      ],
      "execution_count": null,
      "outputs": [
        {
          "output_type": "execute_result",
          "data": {
            "text/plain": [
              "[39, 27, 18, 15, 15]"
            ]
          },
          "metadata": {
            "tags": []
          },
          "execution_count": 15
        }
      ]
    },
    {
      "cell_type": "code",
      "metadata": {
        "id": "1i_rvQufn-cn"
      },
      "source": [
        "idades.remove(15)"
      ],
      "execution_count": null,
      "outputs": []
    },
    {
      "cell_type": "code",
      "metadata": {
        "id": "z2x7WLeKoEz8",
        "colab": {
          "base_uri": "https://localhost:8080/"
        },
        "outputId": "1ab3ad1e-773a-4565-b75a-b7ed804b1c4e"
      },
      "source": [
        "idades"
      ],
      "execution_count": null,
      "outputs": [
        {
          "output_type": "execute_result",
          "data": {
            "text/plain": [
              "[39, 27, 18, 15]"
            ]
          },
          "metadata": {
            "tags": []
          },
          "execution_count": 17
        }
      ]
    },
    {
      "cell_type": "code",
      "metadata": {
        "id": "_sQbDi17oHu9"
      },
      "source": [
        "idades.clear()"
      ],
      "execution_count": null,
      "outputs": []
    },
    {
      "cell_type": "code",
      "metadata": {
        "id": "cpjhC3Ibo64j"
      },
      "source": [
        "idades = [39, 30, 27, 18, 15]"
      ],
      "execution_count": null,
      "outputs": []
    },
    {
      "cell_type": "code",
      "metadata": {
        "id": "3jY9Tv8woejc",
        "colab": {
          "base_uri": "https://localhost:8080/"
        },
        "outputId": "b02fa5d9-7a4e-4c4a-9a27-2055b1979532"
      },
      "source": [
        "28 in idades"
      ],
      "execution_count": null,
      "outputs": [
        {
          "output_type": "execute_result",
          "data": {
            "text/plain": [
              "False"
            ]
          },
          "metadata": {
            "tags": []
          },
          "execution_count": 20
        }
      ]
    },
    {
      "cell_type": "code",
      "metadata": {
        "id": "-BZdpDjeo0Ju"
      },
      "source": [
        "if 28 in idades:\n",
        "  idades.remove(28)"
      ],
      "execution_count": null,
      "outputs": []
    },
    {
      "cell_type": "code",
      "metadata": {
        "id": "j77NTGk9pDb-"
      },
      "source": [
        "idades.append(19)"
      ],
      "execution_count": null,
      "outputs": []
    },
    {
      "cell_type": "code",
      "metadata": {
        "id": "l9fN970WpHMH"
      },
      "source": [
        "idades.insert(0, 20)"
      ],
      "execution_count": null,
      "outputs": []
    },
    {
      "cell_type": "code",
      "metadata": {
        "id": "sjce9dhypO-U",
        "colab": {
          "base_uri": "https://localhost:8080/"
        },
        "outputId": "83b67fcd-3a3a-473d-a58c-bc05ecf34a39"
      },
      "source": [
        "idades"
      ],
      "execution_count": null,
      "outputs": [
        {
          "output_type": "execute_result",
          "data": {
            "text/plain": [
              "[20, 39, 30, 27, 18, 15, 19]"
            ]
          },
          "metadata": {
            "tags": []
          },
          "execution_count": 24
        }
      ]
    },
    {
      "cell_type": "code",
      "metadata": {
        "id": "0REw_2yEpPoU",
        "colab": {
          "base_uri": "https://localhost:8080/"
        },
        "outputId": "bdb86dbf-1310-47a0-afe0-9ebd6607a44a"
      },
      "source": [
        "idades = [20, 39, 28]\n",
        "idades"
      ],
      "execution_count": null,
      "outputs": [
        {
          "output_type": "execute_result",
          "data": {
            "text/plain": [
              "[20, 39, 28]"
            ]
          },
          "metadata": {
            "tags": []
          },
          "execution_count": 25
        }
      ]
    },
    {
      "cell_type": "code",
      "metadata": {
        "id": "13v68mELpXEG"
      },
      "source": [
        "idades.append([27, 19])"
      ],
      "execution_count": null,
      "outputs": []
    },
    {
      "cell_type": "code",
      "metadata": {
        "id": "EvN7pyKmpeIj",
        "colab": {
          "base_uri": "https://localhost:8080/"
        },
        "outputId": "2cb2c20c-cfee-4017-d230-6c36344b1b00"
      },
      "source": [
        "idades"
      ],
      "execution_count": null,
      "outputs": [
        {
          "output_type": "execute_result",
          "data": {
            "text/plain": [
              "[20, 39, 28, [27, 19]]"
            ]
          },
          "metadata": {
            "tags": []
          },
          "execution_count": 27
        }
      ]
    },
    {
      "cell_type": "code",
      "metadata": {
        "id": "84WR3k3PpfQL",
        "colab": {
          "base_uri": "https://localhost:8080/"
        },
        "outputId": "2f9d8cda-a71d-484a-de74-6b7a3e74b37d"
      },
      "source": [
        "for elemento in idades:\n",
        "  print(\"Recebi o elemento\", elemento)"
      ],
      "execution_count": null,
      "outputs": [
        {
          "output_type": "stream",
          "text": [
            "Recebi o elemento 20\n",
            "Recebi o elemento 39\n",
            "Recebi o elemento 28\n",
            "Recebi o elemento [27, 19]\n"
          ],
          "name": "stdout"
        }
      ]
    },
    {
      "cell_type": "code",
      "metadata": {
        "id": "og4zCpMeprFK",
        "colab": {
          "base_uri": "https://localhost:8080/"
        },
        "outputId": "9f6ae535-8eb0-40b1-f0a0-8f0f0f2e5959"
      },
      "source": [
        "idades = [20, 39, 28]\n",
        "idades"
      ],
      "execution_count": null,
      "outputs": [
        {
          "output_type": "execute_result",
          "data": {
            "text/plain": [
              "[20, 39, 28]"
            ]
          },
          "metadata": {
            "tags": []
          },
          "execution_count": 29
        }
      ]
    },
    {
      "cell_type": "code",
      "metadata": {
        "id": "90iDjFStpzyP",
        "colab": {
          "base_uri": "https://localhost:8080/"
        },
        "outputId": "36405fd7-f959-4702-ef5a-cffc5a6a00bf"
      },
      "source": [
        "idades.extend([27, 19])\n",
        "idades"
      ],
      "execution_count": null,
      "outputs": [
        {
          "output_type": "execute_result",
          "data": {
            "text/plain": [
              "[20, 39, 28, 27, 19]"
            ]
          },
          "metadata": {
            "tags": []
          },
          "execution_count": 30
        }
      ]
    },
    {
      "cell_type": "code",
      "metadata": {
        "id": "NPZN5IAQp83Q",
        "colab": {
          "base_uri": "https://localhost:8080/"
        },
        "outputId": "ae4c73db-9a2c-4bc1-bf5f-8370a2ffb9e3"
      },
      "source": [
        "for idade in idades:\n",
        "  print(idade + 1)"
      ],
      "execution_count": null,
      "outputs": [
        {
          "output_type": "stream",
          "text": [
            "21\n",
            "40\n",
            "29\n",
            "28\n",
            "20\n"
          ],
          "name": "stdout"
        }
      ]
    },
    {
      "cell_type": "code",
      "metadata": {
        "id": "1JEJ1aTMqPfD",
        "colab": {
          "base_uri": "https://localhost:8080/"
        },
        "outputId": "5cff61c1-2ccd-4261-a80f-b411faac8ba7"
      },
      "source": [
        "idades_no_ano_que_vem = []\n",
        "for idade in idades:\n",
        "  idades_no_ano_que_vem.append(idade+1)\n",
        "\n",
        "idades_no_ano_que_vem"
      ],
      "execution_count": null,
      "outputs": [
        {
          "output_type": "execute_result",
          "data": {
            "text/plain": [
              "[21, 40, 29, 28, 20]"
            ]
          },
          "metadata": {
            "tags": []
          },
          "execution_count": 32
        }
      ]
    },
    {
      "cell_type": "code",
      "metadata": {
        "id": "sQ_9JxSnqe4e",
        "colab": {
          "base_uri": "https://localhost:8080/"
        },
        "outputId": "0476ccb2-4c9c-49ec-e067-d43407623d7f"
      },
      "source": [
        "idades_no_ano_que_vem = [(idade+1) for idade in idades]\n",
        "idades_no_ano_que_vem"
      ],
      "execution_count": null,
      "outputs": [
        {
          "output_type": "execute_result",
          "data": {
            "text/plain": [
              "[21, 40, 29, 28, 20]"
            ]
          },
          "metadata": {
            "tags": []
          },
          "execution_count": 33
        }
      ]
    },
    {
      "cell_type": "code",
      "metadata": {
        "id": "AdXMspO2q2Uy",
        "colab": {
          "base_uri": "https://localhost:8080/"
        },
        "outputId": "27c26f47-787a-4998-8673-e82bcf67c35d"
      },
      "source": [
        "[idade for idade in idades if idade > 21]"
      ],
      "execution_count": null,
      "outputs": [
        {
          "output_type": "execute_result",
          "data": {
            "text/plain": [
              "[39, 28, 27]"
            ]
          },
          "metadata": {
            "tags": []
          },
          "execution_count": 34
        }
      ]
    },
    {
      "cell_type": "code",
      "metadata": {
        "id": "Ev0vVmbRrJWR",
        "colab": {
          "base_uri": "https://localhost:8080/"
        },
        "outputId": "07d0cf38-8cae-40e1-f796-0f34a21bbda8"
      },
      "source": [
        "def proximo_ano(idade):\n",
        "  return idade+1\n",
        "\n",
        "[proximo_ano(idade) for idade in idades if idade > 21]"
      ],
      "execution_count": null,
      "outputs": [
        {
          "output_type": "execute_result",
          "data": {
            "text/plain": [
              "[40, 29, 28]"
            ]
          },
          "metadata": {
            "tags": []
          },
          "execution_count": 35
        }
      ]
    },
    {
      "cell_type": "code",
      "metadata": {
        "id": "vChUtiZ0rgmJ"
      },
      "source": [
        "def faz_processamento_de_visualizacao(lista):\n",
        "  print(len(lista))\n",
        "  lista.append(13)"
      ],
      "execution_count": null,
      "outputs": []
    },
    {
      "cell_type": "code",
      "metadata": {
        "id": "BkE1Q9dstBJL",
        "colab": {
          "base_uri": "https://localhost:8080/"
        },
        "outputId": "d2a24b72-7786-4a21-c7e6-306ccf809471"
      },
      "source": [
        "idades = [16, 21, 29, 56, 43]\n",
        "faz_processamento_de_visualizacao(idades)\n",
        "idades"
      ],
      "execution_count": null,
      "outputs": [
        {
          "output_type": "stream",
          "text": [
            "5\n"
          ],
          "name": "stdout"
        },
        {
          "output_type": "execute_result",
          "data": {
            "text/plain": [
              "[16, 21, 29, 56, 43, 13]"
            ]
          },
          "metadata": {
            "tags": []
          },
          "execution_count": 37
        }
      ]
    },
    {
      "cell_type": "code",
      "metadata": {
        "id": "YTzzKZwbtIAi"
      },
      "source": [
        "def faz_processamento_de_visualizacao(lista = []):\n",
        "  print(len(lista))\n",
        "  print(lista)\n",
        "  lista.append(13)"
      ],
      "execution_count": null,
      "outputs": []
    },
    {
      "cell_type": "code",
      "metadata": {
        "id": "f_EKv2TnuEpg",
        "colab": {
          "base_uri": "https://localhost:8080/"
        },
        "outputId": "2f2072e8-2fc8-4ab5-be17-05499b5b4c54"
      },
      "source": [
        "faz_processamento_de_visualizacao()"
      ],
      "execution_count": null,
      "outputs": [
        {
          "output_type": "stream",
          "text": [
            "0\n",
            "[]\n"
          ],
          "name": "stdout"
        }
      ]
    },
    {
      "cell_type": "code",
      "metadata": {
        "id": "xlFbKALUuGLB",
        "colab": {
          "base_uri": "https://localhost:8080/"
        },
        "outputId": "5b4e955f-8340-45ce-d280-d9be7b455a9e"
      },
      "source": [
        "faz_processamento_de_visualizacao()"
      ],
      "execution_count": null,
      "outputs": [
        {
          "output_type": "stream",
          "text": [
            "1\n",
            "[13]\n"
          ],
          "name": "stdout"
        }
      ]
    },
    {
      "cell_type": "code",
      "metadata": {
        "id": "e82C9BrSuJFd",
        "colab": {
          "base_uri": "https://localhost:8080/"
        },
        "outputId": "efe734e4-ef0f-4b7a-e399-8b3f4747e077"
      },
      "source": [
        "faz_processamento_de_visualizacao()"
      ],
      "execution_count": null,
      "outputs": [
        {
          "output_type": "stream",
          "text": [
            "2\n",
            "[13, 13]\n"
          ],
          "name": "stdout"
        }
      ]
    },
    {
      "cell_type": "code",
      "metadata": {
        "id": "YKqWg2k5uKhV"
      },
      "source": [
        "def faz_processamento_de_visualizacao(lista = []):\n",
        "  print(len(lista))\n",
        "  print(lista)\n",
        "  lista.append(13)"
      ],
      "execution_count": null,
      "outputs": []
    },
    {
      "cell_type": "code",
      "metadata": {
        "id": "S-016Fp2uM9u"
      },
      "source": [
        "def faz_processamento_de_visualizacao(lista = list()):\n",
        "  print(len(lista))\n",
        "  print(lista)\n",
        "  lista.append(13)"
      ],
      "execution_count": null,
      "outputs": []
    },
    {
      "cell_type": "code",
      "metadata": {
        "id": "X6sl0-ayunLd",
        "colab": {
          "base_uri": "https://localhost:8080/"
        },
        "outputId": "9f00cb9c-044a-4095-c467-2953b8b0ae29"
      },
      "source": [
        "faz_processamento_de_visualizacao()\n",
        "faz_processamento_de_visualizacao()"
      ],
      "execution_count": null,
      "outputs": [
        {
          "output_type": "stream",
          "text": [
            "0\n",
            "[]\n",
            "1\n",
            "[13]\n"
          ],
          "name": "stdout"
        }
      ]
    },
    {
      "cell_type": "code",
      "metadata": {
        "id": "APkHJsQuuqND"
      },
      "source": [
        "def faz_processamento_de_visualizacao(lista = None):\n",
        "  if lista == None:\n",
        "    lista = list()\n",
        "  print(len(lista))\n",
        "  print(lista)\n",
        "  lista.append(13)"
      ],
      "execution_count": null,
      "outputs": []
    },
    {
      "cell_type": "code",
      "metadata": {
        "id": "MRo1o1IEuz8Y",
        "colab": {
          "base_uri": "https://localhost:8080/"
        },
        "outputId": "ea2f0a1a-71d4-4172-8f07-fc9b1e150cb2"
      },
      "source": [
        "faz_processamento_de_visualizacao()\n",
        "faz_processamento_de_visualizacao()"
      ],
      "execution_count": null,
      "outputs": [
        {
          "output_type": "stream",
          "text": [
            "0\n",
            "[]\n",
            "0\n",
            "[]\n"
          ],
          "name": "stdout"
        }
      ]
    },
    {
      "cell_type": "markdown",
      "metadata": {
        "id": "59bx98KZc0jJ"
      },
      "source": [
        "# Aula 02"
      ]
    },
    {
      "cell_type": "markdown",
      "metadata": {
        "id": "cgG40js9c-aK"
      },
      "source": [
        "**Objetos Próprios**"
      ]
    },
    {
      "cell_type": "code",
      "metadata": {
        "id": "keH4F5ifdGUT"
      },
      "source": [
        "class ContaCorrente:\n",
        "  def __init__(self, codigo):\n",
        "    self.codigo = codigo\n",
        "    self.saldo = 0\n",
        "\n",
        "  def deposita(self, valor):\n",
        "    self.saldo += valor\n",
        "\n",
        "  def __str__(self):\n",
        "    return \"[>>Codigo {} Saldo {}<<]\".format(self.codigo, self.saldo)\n",
        "  "
      ],
      "execution_count": null,
      "outputs": []
    },
    {
      "cell_type": "code",
      "metadata": {
        "id": "7sOmUXtvd1DJ",
        "colab": {
          "base_uri": "https://localhost:8080/"
        },
        "outputId": "955a2415-967c-4fed-d052-c9f1a3b3e6b3"
      },
      "source": [
        "conta_do_gui = ContaCorrente(15)\n",
        "print(conta_do_gui)"
      ],
      "execution_count": null,
      "outputs": [
        {
          "output_type": "stream",
          "text": [
            "[>>Codigo 15 Saldo 0<<]\n"
          ],
          "name": "stdout"
        }
      ]
    },
    {
      "cell_type": "code",
      "metadata": {
        "id": "7o52C7pSd-IV",
        "colab": {
          "base_uri": "https://localhost:8080/"
        },
        "outputId": "31766fd4-23df-4bf3-cc63-5f28ff66b1e7"
      },
      "source": [
        "conta_do_gui.deposita(500)\n",
        "print(conta_do_gui)"
      ],
      "execution_count": null,
      "outputs": [
        {
          "output_type": "stream",
          "text": [
            "[>>Codigo 15 Saldo 500<<]\n"
          ],
          "name": "stdout"
        }
      ]
    },
    {
      "cell_type": "code",
      "metadata": {
        "id": "4Vp-SxP3eCjG",
        "colab": {
          "base_uri": "https://localhost:8080/"
        },
        "outputId": "398d4ff3-beea-4966-d98c-7723f88c09e5"
      },
      "source": [
        "conta_da_dani = ContaCorrente(47685)\n",
        "conta_da_dani.deposita(1000)\n",
        "print(conta_da_dani)"
      ],
      "execution_count": null,
      "outputs": [
        {
          "output_type": "stream",
          "text": [
            "[>>Codigo 47685 Saldo 1000<<]\n"
          ],
          "name": "stdout"
        }
      ]
    },
    {
      "cell_type": "code",
      "metadata": {
        "id": "KHld7q3xeMY4",
        "colab": {
          "base_uri": "https://localhost:8080/"
        },
        "outputId": "3370207c-1274-44e5-9b58-66944ec2523b"
      },
      "source": [
        "contas = [conta_do_gui, conta_da_dani]\n",
        "for conta in contas:\n",
        "  print(conta)"
      ],
      "execution_count": null,
      "outputs": [
        {
          "output_type": "stream",
          "text": [
            "[>>Codigo 15 Saldo 500<<]\n",
            "[>>Codigo 47685 Saldo 1000<<]\n"
          ],
          "name": "stdout"
        }
      ]
    },
    {
      "cell_type": "code",
      "metadata": {
        "id": "ijohsxcHeVeZ"
      },
      "source": [
        "contas = [conta_do_gui, conta_da_dani, conta_do_gui]"
      ],
      "execution_count": null,
      "outputs": []
    },
    {
      "cell_type": "code",
      "metadata": {
        "id": "fqCwvJ4Fer-Z",
        "colab": {
          "base_uri": "https://localhost:8080/"
        },
        "outputId": "baa22076-c6ab-4e3c-e3a6-edacf445a7fa"
      },
      "source": [
        "print(contas[0])"
      ],
      "execution_count": null,
      "outputs": [
        {
          "output_type": "stream",
          "text": [
            "[>>Codigo 15 Saldo 500<<]\n"
          ],
          "name": "stdout"
        }
      ]
    },
    {
      "cell_type": "code",
      "metadata": {
        "id": "0OM9LENCetr9"
      },
      "source": [
        "conta_do_gui.deposita(100)"
      ],
      "execution_count": null,
      "outputs": []
    },
    {
      "cell_type": "code",
      "metadata": {
        "id": "n8cOc97DezNO",
        "colab": {
          "base_uri": "https://localhost:8080/"
        },
        "outputId": "a932ea83-6f6a-4a7b-c22b-789aaf5aeec6"
      },
      "source": [
        "print(contas[0])"
      ],
      "execution_count": null,
      "outputs": [
        {
          "output_type": "stream",
          "text": [
            "[>>Codigo 15 Saldo 600<<]\n"
          ],
          "name": "stdout"
        }
      ]
    },
    {
      "cell_type": "code",
      "metadata": {
        "id": "HtHAGfZCe0iq",
        "colab": {
          "base_uri": "https://localhost:8080/"
        },
        "outputId": "acfcb4e9-810f-4f0b-a7a7-2bc4bbfe61e2"
      },
      "source": [
        "print(conta_do_gui)"
      ],
      "execution_count": null,
      "outputs": [
        {
          "output_type": "stream",
          "text": [
            "[>>Codigo 15 Saldo 600<<]\n"
          ],
          "name": "stdout"
        }
      ]
    },
    {
      "cell_type": "code",
      "metadata": {
        "id": "VaVNTrSve3r3",
        "colab": {
          "base_uri": "https://localhost:8080/"
        },
        "outputId": "186093d9-d38a-4640-8be7-7772a26f4045"
      },
      "source": [
        "print(contas[2])"
      ],
      "execution_count": null,
      "outputs": [
        {
          "output_type": "stream",
          "text": [
            "[>>Codigo 15 Saldo 600<<]\n"
          ],
          "name": "stdout"
        }
      ]
    },
    {
      "cell_type": "code",
      "metadata": {
        "id": "zdwoNHfUfMei",
        "colab": {
          "base_uri": "https://localhost:8080/"
        },
        "outputId": "acd68b75-f2e8-49ba-9953-312930b619f7"
      },
      "source": [
        "def deposita_para_todas(contas):\n",
        "  for conta in contas:\n",
        "    conta.deposita(100)\n",
        "\n",
        "contas = [conta_do_gui, conta_da_dani]\n",
        "print(contas[0], contas[1])\n",
        "deposita_para_todas(contas)\n",
        "print(contas[0], contas[1])"
      ],
      "execution_count": null,
      "outputs": [
        {
          "output_type": "stream",
          "text": [
            "[>>Codigo 15 Saldo 600<<] [>>Codigo 47685 Saldo 1000<<]\n",
            "[>>Codigo 15 Saldo 700<<] [>>Codigo 47685 Saldo 1100<<]\n"
          ],
          "name": "stdout"
        }
      ]
    },
    {
      "cell_type": "code",
      "metadata": {
        "id": "Hxn-GQ_qh3vB",
        "colab": {
          "base_uri": "https://localhost:8080/"
        },
        "outputId": "b0d6bd2f-dc91-424f-bcba-3471dfef5eae"
      },
      "source": [
        "contas.insert(0, 76)\n",
        "print(contas[0], contas[1], contas[2])"
      ],
      "execution_count": null,
      "outputs": [
        {
          "output_type": "stream",
          "text": [
            "76 [>>Codigo 15 Saldo 700<<] [>>Codigo 47685 Saldo 1100<<]\n"
          ],
          "name": "stdout"
        }
      ]
    },
    {
      "cell_type": "code",
      "metadata": {
        "id": "cRDaZeIsi0OH"
      },
      "source": [
        "guilherme = ('Gulherme', 37, 1981)\n",
        "daniela = ('Daniela', 31, 1987)"
      ],
      "execution_count": null,
      "outputs": []
    },
    {
      "cell_type": "code",
      "metadata": {
        "id": "VIgsgjdAj2xq",
        "colab": {
          "base_uri": "https://localhost:8080/"
        },
        "outputId": "24ca1e38-3af2-462c-970f-06d5f3388c23"
      },
      "source": [
        "print(guilherme, daniela)"
      ],
      "execution_count": null,
      "outputs": [
        {
          "output_type": "stream",
          "text": [
            "('Gulherme', 37, 1981) ('Daniela', 31, 1987)\n"
          ],
          "name": "stdout"
        }
      ]
    },
    {
      "cell_type": "code",
      "metadata": {
        "id": "lcl8CNejlfWC"
      },
      "source": [
        "conta_do_gui = (15, 1000)"
      ],
      "execution_count": null,
      "outputs": []
    },
    {
      "cell_type": "code",
      "metadata": {
        "id": "fLXPvfabj4_2"
      },
      "source": [
        "def deposita(conta):\n",
        "  novo_saldo = conta[1] + 100\n",
        "  codigo = conta[0]\n",
        "  return (codigo, novo_saldo)"
      ],
      "execution_count": null,
      "outputs": []
    },
    {
      "cell_type": "code",
      "metadata": {
        "id": "jl31wdoclAzE",
        "colab": {
          "base_uri": "https://localhost:8080/"
        },
        "outputId": "ab8b3d2c-0b67-45c0-c8bb-80c4d48b4627"
      },
      "source": [
        "conta_do_gui = deposita(conta_do_gui)\n",
        "conta_do_gui"
      ],
      "execution_count": null,
      "outputs": [
        {
          "output_type": "execute_result",
          "data": {
            "text/plain": [
              "(15, 1100)"
            ]
          },
          "metadata": {
            "tags": []
          },
          "execution_count": 64
        }
      ]
    },
    {
      "cell_type": "code",
      "metadata": {
        "id": "sPyiSHkplDiu",
        "colab": {
          "base_uri": "https://localhost:8080/"
        },
        "outputId": "238efbe4-0f7e-4d96-fd5a-42060b11bc8b"
      },
      "source": [
        "usuarios = [guilherme, daniela]\n",
        "usuarios"
      ],
      "execution_count": null,
      "outputs": [
        {
          "output_type": "execute_result",
          "data": {
            "text/plain": [
              "[('Gulherme', 37, 1981), ('Daniela', 31, 1987)]"
            ]
          },
          "metadata": {
            "tags": []
          },
          "execution_count": 65
        }
      ]
    },
    {
      "cell_type": "code",
      "metadata": {
        "id": "h5I_PPNGmPfA",
        "colab": {
          "base_uri": "https://localhost:8080/"
        },
        "outputId": "d7dc088b-230c-4e84-89fa-f42d22f482af"
      },
      "source": [
        "usuarios.append(('Paulo', 39, 1979))\n",
        "usuarios"
      ],
      "execution_count": null,
      "outputs": [
        {
          "output_type": "execute_result",
          "data": {
            "text/plain": [
              "[('Gulherme', 37, 1981), ('Daniela', 31, 1987), ('Paulo', 39, 1979)]"
            ]
          },
          "metadata": {
            "tags": []
          },
          "execution_count": 66
        }
      ]
    },
    {
      "cell_type": "code",
      "metadata": {
        "id": "2Rs7y_1FmYnR",
        "colab": {
          "base_uri": "https://localhost:8080/"
        },
        "outputId": "1068d149-d885-4bc3-8cc7-0d4e0e691476"
      },
      "source": [
        "conta_do_gui = ContaCorrente(15)\n",
        "conta_do_gui.deposita(500)\n",
        "conta_da_dani = ContaCorrente(123)\n",
        "conta_da_dani.deposita(1000)\n",
        "\n",
        "contas = (conta_do_gui, conta_da_dani)\n",
        "contas"
      ],
      "execution_count": null,
      "outputs": [
        {
          "output_type": "execute_result",
          "data": {
            "text/plain": [
              "(<__main__.ContaCorrente at 0x7f300d973dd8>,\n",
              " <__main__.ContaCorrente at 0x7f300d9732b0>)"
            ]
          },
          "metadata": {
            "tags": []
          },
          "execution_count": 67
        }
      ]
    },
    {
      "cell_type": "code",
      "metadata": {
        "id": "NuYjDBabm_C8",
        "colab": {
          "base_uri": "https://localhost:8080/"
        },
        "outputId": "cf34e9d2-cdea-48f6-e04e-b995534d7920"
      },
      "source": [
        "for conta in contas:\n",
        "  print(conta)"
      ],
      "execution_count": null,
      "outputs": [
        {
          "output_type": "stream",
          "text": [
            "[>>Codigo 15 Saldo 500<<]\n",
            "[>>Codigo 123 Saldo 1000<<]\n"
          ],
          "name": "stdout"
        }
      ]
    },
    {
      "cell_type": "code",
      "metadata": {
        "id": "OM4UmqRQnF_F"
      },
      "source": [
        "contas[0].deposita(300)"
      ],
      "execution_count": null,
      "outputs": []
    },
    {
      "cell_type": "code",
      "metadata": {
        "id": "Tsx0gzHzndN5",
        "colab": {
          "base_uri": "https://localhost:8080/"
        },
        "outputId": "0a48683b-5a91-47d3-9f1c-53c5ab26d019"
      },
      "source": [
        "for conta in contas:\n",
        "  print(conta)"
      ],
      "execution_count": null,
      "outputs": [
        {
          "output_type": "stream",
          "text": [
            "[>>Codigo 15 Saldo 800<<]\n",
            "[>>Codigo 123 Saldo 1000<<]\n"
          ],
          "name": "stdout"
        }
      ]
    },
    {
      "cell_type": "code",
      "metadata": {
        "id": "r2dwLcgvneZd"
      },
      "source": [
        ""
      ],
      "execution_count": null,
      "outputs": []
    },
    {
      "cell_type": "markdown",
      "metadata": {
        "id": "-TS44ffisZSN"
      },
      "source": [
        "# Aula 03"
      ]
    },
    {
      "cell_type": "markdown",
      "metadata": {
        "id": "iysiWXXDslme"
      },
      "source": [
        "**Herança e polimorfismo**"
      ]
    },
    {
      "cell_type": "code",
      "metadata": {
        "id": "fK3k-ewXsdA_"
      },
      "source": [
        "from abc import ABCMeta, abstractmethod\n",
        "class Conta(metaclass=ABCMeta):\n",
        "  def __init__(self, codigo):\n",
        "    self._codigo = codigo\n",
        "    self._saldo = 0\n",
        "\n",
        "  def deposita(self, valor):\n",
        "    self._saldo += valor\n",
        "\n",
        "  @abstractmethod\n",
        "  def passa_o_mes(self):\n",
        "    pass\n",
        "\n",
        "  def __str__(self):\n",
        "    return \"[>>Codigo {} Saldo {}<<]\".format(self._codigo, self._saldo)"
      ],
      "execution_count": null,
      "outputs": []
    },
    {
      "cell_type": "code",
      "metadata": {
        "id": "Sjd53Ysxs2mQ"
      },
      "source": [
        "# print(Conta(88))"
      ],
      "execution_count": null,
      "outputs": []
    },
    {
      "cell_type": "code",
      "metadata": {
        "id": "tBW-I4KEs5M7"
      },
      "source": [
        "class ContaCorrente(Conta):\n",
        "\n",
        "  def passa_o_mes(self):\n",
        "    self._saldo -= 2\n",
        "\n",
        "class ContaPoupanca(Conta):\n",
        "\n",
        "  def passa_o_mes(self):\n",
        "    self._saldo *= 1.01\n",
        "    self._saldo -= 3\n",
        "\n",
        "class ContaInvestimento(Conta):\n",
        "  pass"
      ],
      "execution_count": null,
      "outputs": []
    },
    {
      "cell_type": "code",
      "metadata": {
        "id": "Ndlg0XOEtUto",
        "colab": {
          "base_uri": "https://localhost:8080/"
        },
        "outputId": "802e3910-823a-43a3-b8cc-cd32d6e4c666"
      },
      "source": [
        "conta16 = ContaCorrente(16)\n",
        "conta16.deposita(1000)\n",
        "conta16.passa_o_mes()\n",
        "print(conta16)"
      ],
      "execution_count": null,
      "outputs": [
        {
          "output_type": "stream",
          "text": [
            "[>>Codigo 16 Saldo 998<<]\n"
          ],
          "name": "stdout"
        }
      ]
    },
    {
      "cell_type": "code",
      "metadata": {
        "id": "B9HrHBV6tmNb",
        "colab": {
          "base_uri": "https://localhost:8080/"
        },
        "outputId": "ea62e7a3-ce32-4d29-e06f-f2b4f8b5a9c0"
      },
      "source": [
        "conta17 = ContaPoupanca(17)\n",
        "conta17.deposita(1000)\n",
        "conta17.passa_o_mes()\n",
        "print(conta17)"
      ],
      "execution_count": null,
      "outputs": [
        {
          "output_type": "stream",
          "text": [
            "[>>Codigo 17 Saldo 1007.0<<]\n"
          ],
          "name": "stdout"
        }
      ]
    },
    {
      "cell_type": "code",
      "metadata": {
        "id": "S3DhoP_rtuSU",
        "colab": {
          "base_uri": "https://localhost:8080/"
        },
        "outputId": "e62b7ccd-4d1c-4428-cc55-ba62bc15a10c"
      },
      "source": [
        "conta16 = ContaCorrente(16)\n",
        "conta16.deposita(1000)\n",
        "conta17 = ContaPoupanca(17)\n",
        "conta17.deposita(1000)\n",
        "# conta18 = ContaInvestimento(18)\n",
        "# conta18.deposita(1000)\n",
        "contas = [conta16, conta17]\n",
        "\n",
        "for conta in contas:\n",
        "  conta.passa_o_mes()\n",
        "  print(conta)\n"
      ],
      "execution_count": null,
      "outputs": [
        {
          "output_type": "stream",
          "text": [
            "[>>Codigo 16 Saldo 998<<]\n",
            "[>>Codigo 17 Saldo 1007.0<<]\n"
          ],
          "name": "stdout"
        }
      ]
    },
    {
      "cell_type": "code",
      "metadata": {
        "id": "zvrZNiHSuC4G",
        "colab": {
          "base_uri": "https://localhost:8080/"
        },
        "outputId": "c2c87aa0-6abb-4e88-fa66-61304cf6317d"
      },
      "source": [
        "import array as arr\n",
        "\n",
        "arr.array('d', [1, 3.5])"
      ],
      "execution_count": null,
      "outputs": [
        {
          "output_type": "execute_result",
          "data": {
            "text/plain": [
              "array('d', [1.0, 3.5])"
            ]
          },
          "metadata": {
            "tags": []
          },
          "execution_count": 77
        }
      ]
    },
    {
      "cell_type": "code",
      "metadata": {
        "id": "BBRvqvAduozF",
        "colab": {
          "base_uri": "https://localhost:8080/"
        },
        "outputId": "f6cc1bf4-fceb-4d10-b6b5-24c95499ac8f"
      },
      "source": [
        "import numpy as np\n",
        "\n",
        "numeros = np.array([1, 3.5])\n",
        "numeros"
      ],
      "execution_count": null,
      "outputs": [
        {
          "output_type": "execute_result",
          "data": {
            "text/plain": [
              "array([1. , 3.5])"
            ]
          },
          "metadata": {
            "tags": []
          },
          "execution_count": 78
        }
      ]
    },
    {
      "cell_type": "code",
      "metadata": {
        "id": "XCZBx7UtvIw0",
        "colab": {
          "base_uri": "https://localhost:8080/"
        },
        "outputId": "fbee32ad-c4f7-406b-f584-93ed0f6c9429"
      },
      "source": [
        "numeros + 3"
      ],
      "execution_count": null,
      "outputs": [
        {
          "output_type": "execute_result",
          "data": {
            "text/plain": [
              "array([4. , 6.5])"
            ]
          },
          "metadata": {
            "tags": []
          },
          "execution_count": 79
        }
      ]
    },
    {
      "cell_type": "markdown",
      "metadata": {
        "id": "iO3f55s8zLKd"
      },
      "source": [
        "## Aula 04"
      ]
    },
    {
      "cell_type": "code",
      "metadata": {
        "id": "eR9Sr__avXw6"
      },
      "source": [
        "class ContaSalario:\n",
        "  def __init__(self, codigo):\n",
        "    self._codigo = codigo\n",
        "    self._saldo = 0\n",
        "\n",
        "  def deposita(self, valor):\n",
        "    self._saldo += valor\n",
        "\n",
        "  def __str__(self):\n",
        "    return \"[>>Codigo {} Saldo {}<<]\".format(self._codigo, self._saldo)"
      ],
      "execution_count": null,
      "outputs": []
    },
    {
      "cell_type": "code",
      "metadata": {
        "id": "iAP6VKEBzn-O",
        "colab": {
          "base_uri": "https://localhost:8080/"
        },
        "outputId": "faa917f3-565a-4961-bc98-c2a5f5c77ca1"
      },
      "source": [
        "conta1 = ContaSalario(37)\n",
        "print(conta1)"
      ],
      "execution_count": null,
      "outputs": [
        {
          "output_type": "stream",
          "text": [
            "[>>Codigo 37 Saldo 0<<]\n"
          ],
          "name": "stdout"
        }
      ]
    },
    {
      "cell_type": "code",
      "metadata": {
        "id": "ePPsEHggztj4",
        "colab": {
          "base_uri": "https://localhost:8080/"
        },
        "outputId": "7bea3188-077f-4289-cf7a-6eb1020f10a1"
      },
      "source": [
        "conta2 = ContaSalario(37)\n",
        "print(conta2)"
      ],
      "execution_count": null,
      "outputs": [
        {
          "output_type": "stream",
          "text": [
            "[>>Codigo 37 Saldo 0<<]\n"
          ],
          "name": "stdout"
        }
      ]
    },
    {
      "cell_type": "code",
      "metadata": {
        "id": "0eOc8FRkz-oL",
        "colab": {
          "base_uri": "https://localhost:8080/"
        },
        "outputId": "12c9ce07-d321-4b18-ab06-407fbde0c1c6"
      },
      "source": [
        "conta1 == conta2"
      ],
      "execution_count": null,
      "outputs": [
        {
          "output_type": "execute_result",
          "data": {
            "text/plain": [
              "False"
            ]
          },
          "metadata": {
            "tags": []
          },
          "execution_count": 83
        }
      ]
    },
    {
      "cell_type": "code",
      "metadata": {
        "id": "VMsmX1sR0C94"
      },
      "source": [
        "contas = [conta1]"
      ],
      "execution_count": null,
      "outputs": []
    },
    {
      "cell_type": "code",
      "metadata": {
        "id": "Pgy60ipy0SaL",
        "colab": {
          "base_uri": "https://localhost:8080/"
        },
        "outputId": "203c8a5a-8a40-40f2-a90b-0c5535f5463a"
      },
      "source": [
        "conta1 in contas"
      ],
      "execution_count": null,
      "outputs": [
        {
          "output_type": "execute_result",
          "data": {
            "text/plain": [
              "True"
            ]
          },
          "metadata": {
            "tags": []
          },
          "execution_count": 85
        }
      ]
    },
    {
      "cell_type": "code",
      "metadata": {
        "id": "UXkUhJMm0Uaf",
        "colab": {
          "base_uri": "https://localhost:8080/"
        },
        "outputId": "c519fd1a-9c03-4ea5-aa99-348acb227ad2"
      },
      "source": [
        "conta2 in contas"
      ],
      "execution_count": null,
      "outputs": [
        {
          "output_type": "execute_result",
          "data": {
            "text/plain": [
              "False"
            ]
          },
          "metadata": {
            "tags": []
          },
          "execution_count": 86
        }
      ]
    },
    {
      "cell_type": "code",
      "metadata": {
        "id": "ARRlB_Z90WC7"
      },
      "source": [
        "class ContaSalario:\n",
        "  def __init__(self, codigo):\n",
        "    self._codigo = codigo\n",
        "    self._saldo = 0\n",
        "\n",
        "  def deposita(self, valor):\n",
        "    self._saldo += valor\n",
        "\n",
        "  def __str__(self):\n",
        "    return \"[>>Codigo {} Saldo {}<<]\".format(self._codigo, self._saldo)\n",
        "\n",
        "  def __eq__(self, outro):\n",
        "    if type(outro) != ContaSalario:\n",
        "      return False\n",
        "      \n",
        "    return self._codigo == outro._codigo and self._saldo == outro._saldo"
      ],
      "execution_count": null,
      "outputs": []
    },
    {
      "cell_type": "code",
      "metadata": {
        "id": "HWboCZmy0oXi",
        "colab": {
          "base_uri": "https://localhost:8080/"
        },
        "outputId": "0f105b02-52cc-4fbc-bd87-b88cdf5dda31"
      },
      "source": [
        "conta1 = ContaSalario(37)\n",
        "print(conta1)"
      ],
      "execution_count": null,
      "outputs": [
        {
          "output_type": "stream",
          "text": [
            "[>>Codigo 37 Saldo 0<<]\n"
          ],
          "name": "stdout"
        }
      ]
    },
    {
      "cell_type": "code",
      "metadata": {
        "id": "BVHjKPpI0pfq",
        "colab": {
          "base_uri": "https://localhost:8080/"
        },
        "outputId": "63e43a77-9feb-4ba7-f563-8272b78fdd2e"
      },
      "source": [
        "conta2 = ContaSalario(37)\n",
        "print(conta2)"
      ],
      "execution_count": null,
      "outputs": [
        {
          "output_type": "stream",
          "text": [
            "[>>Codigo 37 Saldo 0<<]\n"
          ],
          "name": "stdout"
        }
      ]
    },
    {
      "cell_type": "code",
      "metadata": {
        "id": "8tqs2w4V0uew",
        "colab": {
          "base_uri": "https://localhost:8080/"
        },
        "outputId": "0a6d3804-4925-40db-b80f-c4ced66148fd"
      },
      "source": [
        "conta1 == conta2"
      ],
      "execution_count": null,
      "outputs": [
        {
          "output_type": "execute_result",
          "data": {
            "text/plain": [
              "True"
            ]
          },
          "metadata": {
            "tags": []
          },
          "execution_count": 90
        }
      ]
    },
    {
      "cell_type": "code",
      "metadata": {
        "id": "Mk1Rpyk70wT8"
      },
      "source": [
        "class ContaSalario:\n",
        "  def __init__(self, codigo):\n",
        "    self._codigo = codigo\n",
        "    self._saldo = 0\n",
        "\n",
        "  def deposita(self, valor):\n",
        "    self._saldo += valor\n",
        "\n",
        "  def __str__(self):\n",
        "    return \"[>>Codigo {} Saldo {}<<]\".format(self._codigo, self._saldo)\n",
        "\n",
        "  def __eq__(self, outro):\n",
        "    if type(outro) != ContaSalario:\n",
        "      return False\n",
        "      \n",
        "    return self._codigo == outro._codigo and self._saldo == outro._saldo\n",
        "\n",
        "\n",
        "class ContaMultiploSalario(ContaSalario):\n",
        "  pass"
      ],
      "execution_count": null,
      "outputs": []
    },
    {
      "cell_type": "markdown",
      "metadata": {
        "id": "oLnEvDLntfll"
      },
      "source": [
        "# Aula 05"
      ]
    },
    {
      "cell_type": "code",
      "metadata": {
        "id": "a5todC6O1q1K",
        "colab": {
          "base_uri": "https://localhost:8080/"
        },
        "outputId": "26720675-9ed7-40e1-b7c7-69f851d46c6c"
      },
      "source": [
        "idades = [12, 56, 43, 38, 69, 42, 51, 26]\n",
        "\n",
        "for i in range(len(idades)):\n",
        "  print(i, idades[i])"
      ],
      "execution_count": null,
      "outputs": [
        {
          "output_type": "stream",
          "text": [
            "0 12\n",
            "1 56\n",
            "2 43\n",
            "3 38\n",
            "4 69\n",
            "5 42\n",
            "6 51\n",
            "7 26\n"
          ],
          "name": "stdout"
        }
      ]
    },
    {
      "cell_type": "code",
      "metadata": {
        "id": "sjzATnypuwtG",
        "colab": {
          "base_uri": "https://localhost:8080/"
        },
        "outputId": "c119e72b-be47-42fc-c6c4-376df9eb3834"
      },
      "source": [
        "enumerate(idades) # lazy..."
      ],
      "execution_count": null,
      "outputs": [
        {
          "output_type": "execute_result",
          "data": {
            "text/plain": [
              "<enumerate at 0x7f3005a85a20>"
            ]
          },
          "metadata": {
            "tags": []
          },
          "execution_count": 99
        }
      ]
    },
    {
      "cell_type": "code",
      "metadata": {
        "id": "hRHW-uQitrR4",
        "colab": {
          "base_uri": "https://localhost:8080/"
        },
        "outputId": "06e77d87-2579-46c8-8e52-0b151f208a2e"
      },
      "source": [
        "list(enumerate(idades))"
      ],
      "execution_count": null,
      "outputs": [
        {
          "output_type": "execute_result",
          "data": {
            "text/plain": [
              "[(0, 12), (1, 56), (2, 43), (3, 38), (4, 69), (5, 42), (6, 51), (7, 26)]"
            ]
          },
          "metadata": {
            "tags": []
          },
          "execution_count": 100
        }
      ]
    },
    {
      "cell_type": "code",
      "metadata": {
        "id": "P_zS_4rcuuQi",
        "colab": {
          "base_uri": "https://localhost:8080/"
        },
        "outputId": "ac2686e9-d137-4e8b-ff66-dee2c9c164bd"
      },
      "source": [
        "for indice, idade in enumerate(idades):\n",
        "  print(indice, \" - \", idade)"
      ],
      "execution_count": null,
      "outputs": [
        {
          "output_type": "stream",
          "text": [
            "0  -  12\n",
            "1  -  56\n",
            "2  -  43\n",
            "3  -  38\n",
            "4  -  69\n",
            "5  -  42\n",
            "6  -  51\n",
            "7  -  26\n"
          ],
          "name": "stdout"
        }
      ]
    },
    {
      "cell_type": "code",
      "metadata": {
        "id": "h4p7YUvlu7jk",
        "colab": {
          "base_uri": "https://localhost:8080/"
        },
        "outputId": "3931bc6f-3d00-42e5-d285-636a8ddf36f5"
      },
      "source": [
        "usuarios = [\n",
        "            (\"Guilherme\", 37, 1981),\n",
        "            (\"Daniela\", 31, 1987),\n",
        "            (\"Paulo\", 39, 1979)\n",
        "]\n",
        "\n",
        "for nome, idade, nascimento in usuarios:\n",
        "  print(nome)"
      ],
      "execution_count": null,
      "outputs": [
        {
          "output_type": "stream",
          "text": [
            "Guilherme\n",
            "Daniela\n",
            "Paulo\n"
          ],
          "name": "stdout"
        }
      ]
    },
    {
      "cell_type": "code",
      "metadata": {
        "id": "FI99_wuCvmow",
        "colab": {
          "base_uri": "https://localhost:8080/"
        },
        "outputId": "5af422c5-78bb-4c1c-bd4b-ee8cc86e5514"
      },
      "source": [
        "usuarios = [\n",
        "            (\"Guilherme\", 37, 1981),\n",
        "            (\"Daniela\", 31, 1987),\n",
        "            (\"Paulo\", 39, 1979)\n",
        "]\n",
        "\n",
        "for nome, _, _ in usuarios:\n",
        "  print(nome)"
      ],
      "execution_count": null,
      "outputs": [
        {
          "output_type": "stream",
          "text": [
            "Guilherme\n",
            "Daniela\n",
            "Paulo\n"
          ],
          "name": "stdout"
        }
      ]
    },
    {
      "cell_type": "markdown",
      "metadata": {
        "id": "u9dDUmJJxeK0"
      },
      "source": [
        "# Aula 06"
      ]
    },
    {
      "cell_type": "code",
      "metadata": {
        "id": "S0EVvyd6xc4s",
        "colab": {
          "base_uri": "https://localhost:8080/"
        },
        "outputId": "bd07c356-9462-4091-89dd-0c79b828f4f7"
      },
      "source": [
        "idades"
      ],
      "execution_count": null,
      "outputs": [
        {
          "output_type": "execute_result",
          "data": {
            "text/plain": [
              "[12, 56, 43, 38, 69, 42, 51, 26]"
            ]
          },
          "metadata": {
            "tags": []
          },
          "execution_count": 110
        }
      ]
    },
    {
      "cell_type": "code",
      "metadata": {
        "id": "kTly-CYGvv_B",
        "colab": {
          "base_uri": "https://localhost:8080/"
        },
        "outputId": "55855f45-b69f-431a-882b-f468f906354c"
      },
      "source": [
        "sorted(idades)"
      ],
      "execution_count": null,
      "outputs": [
        {
          "output_type": "execute_result",
          "data": {
            "text/plain": [
              "[12, 26, 38, 42, 43, 51, 56, 69]"
            ]
          },
          "metadata": {
            "tags": []
          },
          "execution_count": 109
        }
      ]
    },
    {
      "cell_type": "code",
      "metadata": {
        "id": "tKsCauHHxP_T",
        "colab": {
          "base_uri": "https://localhost:8080/"
        },
        "outputId": "25217042-492a-4b24-f934-3854a5855ea3"
      },
      "source": [
        "list(reversed(idades))"
      ],
      "execution_count": null,
      "outputs": [
        {
          "output_type": "execute_result",
          "data": {
            "text/plain": [
              "[26, 51, 42, 69, 38, 43, 56, 12]"
            ]
          },
          "metadata": {
            "tags": []
          },
          "execution_count": 107
        }
      ]
    },
    {
      "cell_type": "code",
      "metadata": {
        "id": "yqgsuhp3xTai",
        "colab": {
          "base_uri": "https://localhost:8080/"
        },
        "outputId": "f2349ab9-daa9-47b7-8e50-293e43b5a5b0"
      },
      "source": [
        "sorted(idades, reverse=True)"
      ],
      "execution_count": null,
      "outputs": [
        {
          "output_type": "execute_result",
          "data": {
            "text/plain": [
              "[69, 56, 51, 43, 42, 38, 26, 12]"
            ]
          },
          "metadata": {
            "tags": []
          },
          "execution_count": 112
        }
      ]
    },
    {
      "cell_type": "code",
      "metadata": {
        "id": "S3riH2AyxnWx",
        "colab": {
          "base_uri": "https://localhost:8080/"
        },
        "outputId": "c3cb7357-91e5-47f2-e899-dc0b3d31600e"
      },
      "source": [
        "idades.sort()\n",
        "idades"
      ],
      "execution_count": null,
      "outputs": [
        {
          "output_type": "execute_result",
          "data": {
            "text/plain": [
              "[12, 26, 38, 42, 43, 51, 56, 69]"
            ]
          },
          "metadata": {
            "tags": []
          },
          "execution_count": 114
        }
      ]
    },
    {
      "cell_type": "markdown",
      "metadata": {
        "id": "8a2ISxVhzRQl"
      },
      "source": [
        "# Aula 07"
      ]
    },
    {
      "cell_type": "code",
      "metadata": {
        "id": "phf6OBgLyBix"
      },
      "source": [
        "class ContaSalario:\n",
        "  def __init__(self, codigo):\n",
        "    self._codigo = codigo\n",
        "    self._saldo = 0\n",
        "\n",
        "  def deposita(self, valor):\n",
        "    self._saldo += valor\n",
        "\n",
        "  def __str__(self):\n",
        "    return \"[>>Codigo {} Saldo {}<<]\".format(self._codigo, self._saldo)\n",
        "\n",
        "  def __eq__(self, outro):\n",
        "    if type(outro) != ContaSalario:\n",
        "      return False\n",
        "    return self._codigo == outro._codigo and self._saldo == outro._saldo"
      ],
      "execution_count": null,
      "outputs": []
    },
    {
      "cell_type": "code",
      "metadata": {
        "id": "9W7xW2xnxoPU"
      },
      "source": [
        "conta_do_guilherme = ContaSalario(17)\n",
        "conta_do_guilherme.deposita(500)\n",
        "\n",
        "conta_do_daniela = ContaSalario(3)\n",
        "conta_do_daniela.deposita(1000)\n",
        "\n",
        "conta_do_paulo = ContaSalario(133)\n",
        "conta_do_paulo.deposita(510)\n",
        "\n",
        "\n",
        "contas = [conta_do_guilherme, conta_do_daniela, conta_do_paulo]"
      ],
      "execution_count": null,
      "outputs": []
    },
    {
      "cell_type": "code",
      "metadata": {
        "id": "cvC8rT9exoIZ",
        "colab": {
          "base_uri": "https://localhost:8080/"
        },
        "outputId": "910b7a49-ec29-4f50-deb8-8a2ebd5718b6"
      },
      "source": [
        "for conta in contas:\n",
        "  print(conta)"
      ],
      "execution_count": null,
      "outputs": [
        {
          "output_type": "stream",
          "text": [
            "[>>Codigo 17 Saldo 500<<]\n",
            "[>>Codigo 3 Saldo 1000<<]\n",
            "[>>Codigo 133 Saldo 510<<]\n"
          ],
          "name": "stdout"
        }
      ]
    },
    {
      "cell_type": "code",
      "metadata": {
        "id": "ke6yDs3SyHmx",
        "colab": {
          "base_uri": "https://localhost:8080/"
        },
        "outputId": "5fb10869-f4c2-4c41-ee25-a39026eadf54"
      },
      "source": [
        "def extrai_saldo(conta):\n",
        "  return conta._saldo\n",
        "\n",
        "for conta in sorted(contas, key=extrai_saldo):\n",
        "  print(conta)"
      ],
      "execution_count": null,
      "outputs": [
        {
          "output_type": "stream",
          "text": [
            "[>>Codigo 17 Saldo 500<<]\n",
            "[>>Codigo 133 Saldo 510<<]\n",
            "[>>Codigo 3 Saldo 1000<<]\n"
          ],
          "name": "stdout"
        }
      ]
    },
    {
      "cell_type": "code",
      "metadata": {
        "id": "TzGfGSNTyGGG",
        "colab": {
          "base_uri": "https://localhost:8080/"
        },
        "outputId": "a93f0847-15cf-485c-c77a-e9edd7617b39"
      },
      "source": [
        "from operator import attrgetter\n",
        "\n",
        "for conta in sorted(contas, key=attrgetter(\"_saldo\")):\n",
        "  print(conta)"
      ],
      "execution_count": null,
      "outputs": [
        {
          "output_type": "stream",
          "text": [
            "[>>Codigo 17 Saldo 500<<]\n",
            "[>>Codigo 133 Saldo 510<<]\n",
            "[>>Codigo 3 Saldo 1000<<]\n"
          ],
          "name": "stdout"
        }
      ]
    },
    {
      "cell_type": "code",
      "metadata": {
        "id": "1INeuwT5yv7r"
      },
      "source": [
        "class ContaSalario:\n",
        "  def __init__(self, codigo):\n",
        "    self._codigo = codigo\n",
        "    self._saldo = 0\n",
        "\n",
        "  def deposita(self, valor):\n",
        "    self._saldo += valor\n",
        "\n",
        "  def __str__(self):\n",
        "    return \"[>>Codigo {} Saldo {}<<]\".format(self._codigo, self._saldo)\n",
        "\n",
        "  def __eq__(self, outro):\n",
        "    if type(outro) != ContaSalario:\n",
        "      return False\n",
        "    return self._codigo == outro._codigo and self._saldo == outro._saldo\n",
        "\n",
        "  def __lt__(self, outro):\n",
        "    return self._saldo < outro._saldo\n",
        "      \n",
        "   "
      ],
      "execution_count": null,
      "outputs": []
    },
    {
      "cell_type": "code",
      "metadata": {
        "id": "q38EuyXGy8od"
      },
      "source": [
        "conta_do_guilherme = ContaSalario(17)\n",
        "conta_do_guilherme.deposita(500)\n",
        "\n",
        "conta_do_daniela = ContaSalario(3)\n",
        "conta_do_daniela.deposita(1000)\n",
        "\n",
        "conta_do_paulo = ContaSalario(133)\n",
        "conta_do_paulo.deposita(510)\n",
        "\n",
        "\n",
        "contas = [conta_do_guilherme, conta_do_daniela, conta_do_paulo]"
      ],
      "execution_count": null,
      "outputs": []
    },
    {
      "cell_type": "code",
      "metadata": {
        "id": "PwW3nq-Tzvqm",
        "colab": {
          "base_uri": "https://localhost:8080/"
        },
        "outputId": "ae1f9309-7248-4c42-e338-07fa5cb500a6"
      },
      "source": [
        "conta_do_guilherme < conta_do_daniela"
      ],
      "execution_count": null,
      "outputs": [
        {
          "output_type": "execute_result",
          "data": {
            "text/plain": [
              "True"
            ]
          },
          "metadata": {
            "tags": []
          },
          "execution_count": 18
        }
      ]
    },
    {
      "cell_type": "code",
      "metadata": {
        "id": "0YEcG8SszwCl",
        "colab": {
          "base_uri": "https://localhost:8080/"
        },
        "outputId": "5ec1c1af-d6ea-4201-dd2c-dbd29ae66a88"
      },
      "source": [
        "conta_do_guilherme > conta_do_daniela"
      ],
      "execution_count": null,
      "outputs": [
        {
          "output_type": "execute_result",
          "data": {
            "text/plain": [
              "False"
            ]
          },
          "metadata": {
            "tags": []
          },
          "execution_count": 19
        }
      ]
    },
    {
      "cell_type": "code",
      "metadata": {
        "id": "8XamJcOTz6w3",
        "colab": {
          "base_uri": "https://localhost:8080/"
        },
        "outputId": "18e40d27-5d9e-4deb-a1da-84461d36555e"
      },
      "source": [
        "for conta in sorted(contas):\n",
        "  print(conta)"
      ],
      "execution_count": null,
      "outputs": [
        {
          "output_type": "stream",
          "text": [
            "[>>Codigo 17 Saldo 500<<]\n",
            "[>>Codigo 133 Saldo 510<<]\n",
            "[>>Codigo 3 Saldo 1000<<]\n"
          ],
          "name": "stdout"
        }
      ]
    },
    {
      "cell_type": "code",
      "metadata": {
        "id": "-AF2g6N00EZ9"
      },
      "source": [
        ""
      ],
      "execution_count": null,
      "outputs": []
    },
    {
      "cell_type": "markdown",
      "metadata": {
        "id": "UaaVi9d5zXtc"
      },
      "source": [
        "# Aula 08"
      ]
    },
    {
      "cell_type": "code",
      "metadata": {
        "id": "RQK-0pIPzbKI"
      },
      "source": [
        "conta_do_guilherme = ContaSalario(1700)\n",
        "conta_do_guilherme.deposita(500)\n",
        "\n",
        "conta_do_daniela = ContaSalario(3)\n",
        "conta_do_daniela.deposita(1000)\n",
        "\n",
        "conta_do_paulo = ContaSalario(133)\n",
        "conta_do_paulo.deposita(500)\n",
        "\n",
        "\n",
        "contas = [conta_do_guilherme, conta_do_daniela, conta_do_paulo]"
      ],
      "execution_count": null,
      "outputs": []
    },
    {
      "cell_type": "code",
      "metadata": {
        "id": "y4IoTnyZ0acU",
        "colab": {
          "base_uri": "https://localhost:8080/"
        },
        "outputId": "da9f3f23-e501-4bde-931e-b5c6a1a6fccf"
      },
      "source": [
        "for conta in sorted(contas, key=attrgetter(\"_saldo\", \"_codigo\")):\n",
        "  print(conta)"
      ],
      "execution_count": null,
      "outputs": [
        {
          "output_type": "stream",
          "text": [
            "[>>Codigo 133 Saldo 500<<]\n",
            "[>>Codigo 1700 Saldo 500<<]\n",
            "[>>Codigo 3 Saldo 1000<<]\n"
          ],
          "name": "stdout"
        }
      ]
    },
    {
      "cell_type": "code",
      "metadata": {
        "id": "9g8K-nT10bJJ"
      },
      "source": [
        "class ContaSalario:\n",
        "  def __init__(self, codigo):\n",
        "    self._codigo = codigo\n",
        "    self._saldo = 0\n",
        "\n",
        "  def deposita(self, valor):\n",
        "    self._saldo += valor\n",
        "\n",
        "  def __str__(self):\n",
        "    return \"[>>Codigo {} Saldo {}<<]\".format(self._codigo, self._saldo)\n",
        "\n",
        "  def __eq__(self, outro):\n",
        "    if type(outro) != ContaSalario:\n",
        "      return False\n",
        "    return self._codigo == outro._codigo and self._saldo == outro._saldo\n",
        "\n",
        "  def __lt__(self, outro):\n",
        "    if (self._saldo < outro._saldo):\n",
        "      return self._saldo < outro._saldo\n",
        "    return self._codigo < outro._codigo\n",
        "      \n",
        "    "
      ],
      "execution_count": null,
      "outputs": []
    },
    {
      "cell_type": "code",
      "metadata": {
        "id": "Dqju7qg50ba9"
      },
      "source": [
        "conta_do_guilherme = ContaSalario(1700)\n",
        "conta_do_guilherme.deposita(500)\n",
        "\n",
        "conta_do_daniela = ContaSalario(3)\n",
        "conta_do_daniela.deposita(100)\n",
        "\n",
        "conta_do_paulo = ContaSalario(133)\n",
        "conta_do_paulo.deposita(500)\n",
        "\n",
        "\n",
        "contas = [conta_do_guilherme, conta_do_daniela, conta_do_paulo]"
      ],
      "execution_count": null,
      "outputs": []
    },
    {
      "cell_type": "code",
      "metadata": {
        "id": "Na5bUup12Tmx",
        "colab": {
          "base_uri": "https://localhost:8080/"
        },
        "outputId": "a1f1cb49-7309-49a8-f6e0-328e948aa56a"
      },
      "source": [
        "for conta in sorted(contas):\n",
        "  print(conta)"
      ],
      "execution_count": null,
      "outputs": [
        {
          "output_type": "stream",
          "text": [
            "[>>Codigo 3 Saldo 100<<]\n",
            "[>>Codigo 133 Saldo 500<<]\n",
            "[>>Codigo 1700 Saldo 500<<]\n"
          ],
          "name": "stdout"
        }
      ]
    },
    {
      "cell_type": "code",
      "metadata": {
        "id": "N8xl_Du62OCA"
      },
      "source": [
        "from functools import total_ordering\n",
        "\n",
        "@total_ordering\n",
        "class ContaSalario:\n",
        "  def __init__(self, codigo):\n",
        "    self._codigo = codigo\n",
        "    self._saldo = 0\n",
        "\n",
        "  def deposita(self, valor):\n",
        "    self._saldo += valor\n",
        "\n",
        "  def __str__(self):\n",
        "    return \"[>>Codigo {} Saldo {}<<]\".format(self._codigo, self._saldo)\n",
        "\n",
        "  def __eq__(self, outro):\n",
        "    if type(outro) != ContaSalario:\n",
        "      return False\n",
        "    return self._codigo == outro._codigo and self._saldo == outro._saldo\n",
        "\n",
        "  def __lt__(self, outro):\n",
        "    if (self._saldo < outro._saldo):\n",
        "      return self._saldo < outro._saldo\n",
        "    return self._codigo < outro._codigo\n",
        "    "
      ],
      "execution_count": null,
      "outputs": []
    },
    {
      "cell_type": "code",
      "metadata": {
        "id": "M_UFxHy32f-y"
      },
      "source": [
        "conta_do_guilherme = ContaSalario(1700)\n",
        "conta_do_guilherme.deposita(500)\n",
        "\n",
        "conta_do_daniela = ContaSalario(3)\n",
        "conta_do_daniela.deposita(100)\n",
        "\n",
        "conta_do_paulo = ContaSalario(133)\n",
        "conta_do_paulo.deposita(500)\n",
        "\n",
        "\n",
        "contas = [conta_do_guilherme, conta_do_daniela, conta_do_paulo]"
      ],
      "execution_count": null,
      "outputs": []
    },
    {
      "cell_type": "code",
      "metadata": {
        "id": "I7_Fu-NG1N86",
        "colab": {
          "base_uri": "https://localhost:8080/"
        },
        "outputId": "9bf64c41-2ce2-495d-ec52-01c33be20341"
      },
      "source": [
        "conta_do_guilherme <= conta_do_daniela"
      ],
      "execution_count": null,
      "outputs": [
        {
          "output_type": "execute_result",
          "data": {
            "text/plain": [
              "False"
            ]
          },
          "metadata": {
            "tags": []
          },
          "execution_count": 48
        }
      ]
    },
    {
      "cell_type": "code",
      "metadata": {
        "id": "scg2xi4I1iuU"
      },
      "source": [
        ""
      ],
      "execution_count": null,
      "outputs": []
    }
  ]
}